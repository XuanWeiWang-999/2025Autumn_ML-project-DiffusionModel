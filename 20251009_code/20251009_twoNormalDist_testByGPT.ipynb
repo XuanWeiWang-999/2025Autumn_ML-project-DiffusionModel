{
 "cells": [
  {
   "cell_type": "code",
   "execution_count": 1,
   "id": "f004e152",
   "metadata": {},
   "outputs": [],
   "source": [
    "import torch, numpy as np\n",
    "import torch.nn.functional as F\n",
    "import matplotlib.pyplot as plt\n",
    "from scipy import stats\n",
    "\n",
    "DEVICE        = 'cpu' \n",
    "T             = 500        # diffusion steps\n",
    "BATCH_SIZE    = 512\n",
    "TRAIN_ITERS   = 2000       # 訓練步數\n",
    "LR            = 5e-4\n",
    "HIDDEN        = 512\n",
    "TIME_DIM      = 64\n",
    "N_TRAIN_SAMP  = 10000       # 訓練資料量）\n",
    "### Constants setting\n",
    "betas = torch.linspace(1e-4, 0.02, T+1, device=DEVICE)\n",
    "alphas = 1.0-betas\n",
    "abar = torch.cumprod(alphas, dim=0)\n",
    "sqrt_abar = torch.sqrt(abar)\n",
    "sqrt_lmabar = torch.sqrt(1.0-abar)\n",
    "sqrt_rcp_a = torch.sqrt(1.0 / alphas)\n"
   ]
  },
  {
   "cell_type": "code",
   "execution_count": null,
   "id": "6c16d772",
   "metadata": {},
   "outputs": [],
   "source": [
    "# 定義兩個 normal distribution\n",
    "mu1, sigma1 = 0, 1   # N(0, 1)\n",
    "mu2, sigma2 = 10, 2   # N(10, 2)\n",
    "\n",
    "n_samples = 10000\n",
    "weights = [0.5, 0.5]  # mixture ratio\n",
    "\n",
    "# 先決定每個樣本從哪個分布來\n",
    "choices = np.random.choice([0, 1], size=n_samples, p=weights)\n",
    "\n",
    "# 依據 choices 產生樣本\n",
    "samples = np.where(\n",
    "    choices == 0,\n",
    "    np.random.normal(mu1, sigma1, n_samples),\n",
    "    np.random.normal(mu2, sigma2, n_samples)\n",
    ")\n",
    "\n",
    "# 畫圖\n",
    "plt.hist(samples, bins=50, density=True, alpha=0.6, color='g')\n",
    "plt.title(\"Mixture of N(0,1) and N(5,2)\")\n",
    "plt.show()"
   ]
  },
  {
   "cell_type": "code",
   "execution_count": null,
   "id": "c6b1013c",
   "metadata": {},
   "outputs": [],
   "source": []
  }
 ],
 "metadata": {
  "kernelspec": {
   "display_name": "ml_env",
   "language": "python",
   "name": "python3"
  },
  "language_info": {
   "codemirror_mode": {
    "name": "ipython",
    "version": 3
   },
   "file_extension": ".py",
   "mimetype": "text/x-python",
   "name": "python",
   "nbconvert_exporter": "python",
   "pygments_lexer": "ipython3",
   "version": "3.10.18"
  }
 },
 "nbformat": 4,
 "nbformat_minor": 5
}
