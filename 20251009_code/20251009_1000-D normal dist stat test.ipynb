{
 "cells": [
  {
   "cell_type": "markdown",
   "id": "6ace97fd",
   "metadata": {},
   "source": [
    "# 1000維 10000筆資料跑統計檢定"
   ]
  },
  {
   "cell_type": "markdown",
   "id": "7d031e5e",
   "metadata": {},
   "source": [
    "1000維常態分佈 一萬筆資料跑檢定 因為最後要看nmist 要多維，看統計檢定可不可以過  \n",
    "=> 或是直接下載mnist資料分兩半看母體是不是一樣的\n"
   ]
  },
  {
   "cell_type": "markdown",
   "id": "cfefd4f0",
   "metadata": {},
   "source": [
    "兩個方案：\n",
    "* A) 人工產生的 1000 維常態、1 萬筆\n",
    "* B) 直接用 MNIST 分兩半比「是否同母體」。\n",
    "\n",
    "而上述方案都包含：\n",
    "* **Energy distance(置換檢定)**\n",
    "* **MMD(核兩樣本)**\n",
    "* **Hotelling’s （用縮減共變數避免高維不穩）**\n",
    "* 再加**逐維 t-test + FDR與PCA 視覺化**。"
   ]
  },
  {
   "cell_type": "markdown",
   "id": "9725e1ad",
   "metadata": {},
   "source": [
    "---"
   ]
  },
  {
   "cell_type": "markdown",
   "id": "f6e6eb9f",
   "metadata": {},
   "source": [
    "## Setting"
   ]
  },
  {
   "cell_type": "code",
   "execution_count": 4,
   "id": "d316efdd",
   "metadata": {},
   "outputs": [],
   "source": [
    "import numpy as np\n",
    "import matplotlib.pyplot as plt\n",
    "from scipy.stats import ttest_ind, f\n",
    "from statsmodels.stats.multitest import multipletests\n",
    "from sklearn.decomposition import PCA\n",
    "from sklearn.covariance import LedoitWolf\n",
    "from sklearn.metrics.pairwise import rbf_kernel\n",
    "\n",
    "rng = np.random.default_rng(0)\n",
    "\n",
    "def energy_stat(X, Y):\n",
    "    # 論文定義的兩樣本 energy distance 的「統計量」(未標準化常數對p-value不影響)\n",
    "    # E||X - Y|| - 0.5 E||X - X'|| - 0.5 E||Y - Y'||\n",
    "    def _avg_pairwise_norm(A, B):\n",
    "        # 平均 L2 距離\n",
    "        a2 = np.sum(A*A, axis=1)[:,None]\n",
    "        b2 = np.sum(B*B, axis=1)[None,:]\n",
    "        D2 = a2 + b2 - 2*A@B.T\n",
    "        np.maximum(D2, 0, out=D2)\n",
    "        return np.mean(np.sqrt(D2))\n",
    "    return _avg_pairwise_norm(X, Y) - 0.5*_avg_pairwise_norm(X, X) - 0.5*_avg_pairwise_norm(Y, Y)\n",
    "\n",
    "def permutation_test(stat_fn, X, Y, n_perm=500, tail='right', subsample=None):\n",
    "    # 可選擇下採樣加速\n",
    "    if subsample is not None:\n",
    "        nX = min(len(X), subsample//2)\n",
    "        nY = min(len(Y), subsample - nX)\n",
    "        X = X[rng.choice(len(X), nX, replace=False)]\n",
    "        Y = Y[rng.choice(len(Y), nY, replace=False)]\n",
    "    z = np.vstack([X, Y])\n",
    "    n, m = len(X), len(Y)\n",
    "    stat_obs = stat_fn(X, Y)\n",
    "    cnt = 0\n",
    "    for _ in range(n_perm):\n",
    "        idx = rng.permutation(len(z))\n",
    "        Xp, Yp = z[idx[:n]], z[idx[n:]]\n",
    "        s = stat_fn(Xp, Yp)\n",
    "        if tail == 'right':\n",
    "            cnt += (s >= stat_obs)\n",
    "        elif tail == 'left':\n",
    "            cnt += (s <= stat_obs)\n",
    "        else:  # two-sided\n",
    "            cnt += (abs(s) >= abs(stat_obs))\n",
    "    pval = (cnt + 1) / (n_perm + 1)\n",
    "    return stat_obs, pval\n",
    "\n",
    "def mmd_stat(X, Y, gamma='median'):\n",
    "    Z = np.vstack([X, Y])\n",
    "    if gamma == 'median':\n",
    "        # median heuristic\n",
    "        idx = rng.choice(len(Z), size=min(2000, len(Z)), replace=False)\n",
    "        Zs = Z[idx]\n",
    "        d2 = np.sum((Zs[:,None,:]-Zs[None,:,:])**2, axis=2)\n",
    "        med = np.median(d2[np.triu_indices_from(d2, 1)])\n",
    "        gamma = 1.0 / (med + 1e-12)\n",
    "    Kxx = rbf_kernel(X, X, gamma=gamma)\n",
    "    Kyy = rbf_kernel(Y, Y, gamma=gamma)\n",
    "    Kxy = rbf_kernel(X, Y, gamma=gamma)\n",
    "    # u-statistic MMD^2\n",
    "    np.fill_diagonal(Kxx, 0.0)\n",
    "    np.fill_diagonal(Kyy, 0.0)\n",
    "    m, n = len(X), len(Y)\n",
    "    return Kxx.sum()/(m*(m-1)) + Kyy.sum()/(n*(n-1)) - 2*Kxy.mean()\n",
    "\n",
    "def hotellings_T2_two_sample(X, Y):\n",
    "    # 兩樣本 Hotelling’s T^2 （均值是否相等）、共變數用 Ledoit-Wolf 縮減，穩定高維\n",
    "    n, m = len(X), len(Y)\n",
    "    p = X.shape[1]\n",
    "    mx, my = X.mean(axis=0), Y.mean(axis=0)\n",
    "    # pooled covariance estimate via shrinkage\n",
    "    Sx = LedoitWolf().fit(X - mx).covariance_\n",
    "    Sy = LedoitWolf().fit(Y - my).covariance_\n",
    "    Sp = ((n-1)*Sx + (m-1)*Sy) / (n+m-2)\n",
    "    # T^2\n",
    "    diff = (mx - my)\n",
    "    # 數值穩定的逆\n",
    "    from numpy.linalg import solve\n",
    "    T2 = (n*m/(n+m)) * diff @ solve(Sp, diff)\n",
    "    # 轉成 F 分佈\n",
    "    # F = ((n+m-p-1)/(p*(n+m-2))) * T2 ~ F_{p, n+m-p-1}\n",
    "    df1 = p\n",
    "    df2 = n + m - p - 1\n",
    "    if df2 <= 0:\n",
    "        return T2, np.nan, (df1, df2)\n",
    "    Fstat = ((n+m-p-1)/(p*(n+m-2))) * T2\n",
    "    pval = 1 - f.cdf(Fstat, df1, df2)\n",
    "    return T2, pval, (df1, df2)\n",
    "\n",
    "def per_dim_tests_with_fdr(X, Y):\n",
    "    pvals = np.array([ttest_ind(X[:,i], Y[:,i], equal_var=False).pvalue\n",
    "                      for i in range(X.shape[1])])\n",
    "    rej, pvals_fdr, _, _ = multipletests(pvals, method='fdr_bh')\n",
    "    return pvals, pvals_fdr, rej\n",
    "\n",
    "def quick_pca_plot(X, Y, title='PCA'):\n",
    "    Z = np.vstack([X, Y])\n",
    "    labels = np.array([0]*len(X) + [1]*len(Y))\n",
    "    Z2 = PCA(n_components=2, random_state=0).fit_transform(Z)\n",
    "    plt.figure(figsize=(5,4))\n",
    "    plt.scatter(Z2[labels==0,0], Z2[labels==0,1], s=8, alpha=0.8, label='Group X')\n",
    "    plt.scatter(Z2[labels==1,0], Z2[labels==1,1], s=8, alpha=0.8, label='Group Y')\n",
    "    plt.title(title); plt.xlabel('PC1'); plt.ylabel('PC2'); plt.legend(); plt.show()\n"
   ]
  },
  {
   "cell_type": "markdown",
   "id": "d636534d",
   "metadata": {},
   "source": [
    "---"
   ]
  },
  {
   "cell_type": "markdown",
   "id": "63ba96bd",
   "metadata": {},
   "source": [
    "## Case A: 1000 維常態、各 5000 筆（總 1 萬）"
   ]
  },
  {
   "cell_type": "code",
   "execution_count": null,
   "id": "a1b5583b",
   "metadata": {},
   "outputs": [],
   "source": [
    "d = 1000\n",
    "n1 = n2 = 5000\n",
    "\n",
    "# 母體一樣（虛無）→ 可改成 shift[:30]=0.15 作為有差異的情境\n",
    "mu1 = np.zeros(d)\n",
    "mu2 = np.zeros(d)\n",
    "\n",
    "# 也可做出相關性：這裡先用獨立常態\n",
    "X = rng.standard_normal((n1, d)) + mu1\n",
    "Y = rng.standard_normal((n2, d)) + mu2\n",
    "\n",
    "# ---- 檢定們 ----\n",
    "# 1) Energy distance（置換檢定，對高維穩健；可 subsample 加速）\n",
    "estat, ep = permutation_test(energy_stat, X, Y, n_perm=300, subsample=4000)\n",
    "\n",
    "# 2) MMD（RBF，置換檢定）\n",
    "mmd, mmd_p = permutation_test(mmd_stat, X, Y, n_perm=300, subsample=4000)\n",
    "\n",
    "# 3) Hotelling’s T^2（用 Ledoit-Wolf 縮減共變數）\n",
    "T2, T2_p, dfs = hotellings_T2_two_sample(X, Y)\n",
    "\n",
    "# 4) 逐維 + FDR\n",
    "pvals, pvals_fdr, rej = per_dim_tests_with_fdr(X, Y)\n",
    "\n",
    "print(f\"[Energy] stat={estat:.4f}, p≈{ep:.4g}\")\n",
    "print(f\"[MMD]    stat={mmd:.4f}, p≈{mmd_p:.4g}\")\n",
    "print(f\"[T^2]    T2={T2:.2f}, p≈{T2_p}, df={dfs}\")\n",
    "print(f\"[FDR]    significant dims = {rej.sum()} / {d}\")\n",
    "\n",
    "# 視覺化\n",
    "neglogp = -np.log10(pvals + 1e-300)\n",
    "plt.figure(figsize=(12,4))\n",
    "plt.subplot(1,2,1)\n",
    "plt.hist(pvals, bins=40, edgecolor='black'); plt.title('P-value histogram'); plt.xlabel('p'); plt.ylabel('count')\n",
    "plt.subplot(1,2,2)\n",
    "plt.scatter(range(d), neglogp, s=6, alpha=0.7, label='-log10 p')\n",
    "if rej.any():\n",
    "    plt.scatter(np.where(rej)[0], neglogp[rej], s=8, alpha=0.9, label='FDR sig')\n",
    "plt.title('Per-dim -log10 p'); plt.legend(); plt.tight_layout(); plt.show()\n",
    "\n",
    "quick_pca_plot(X, Y, title='PCA (Gaussian 1000D)')\n"
   ]
  },
  {
   "cell_type": "markdown",
   "id": "a85be80b",
   "metadata": {},
   "source": [
    "理論上可以作但時間太久了"
   ]
  },
  {
   "cell_type": "code",
   "execution_count": null,
   "id": "7aa9ff2c",
   "metadata": {},
   "outputs": [],
   "source": []
  },
  {
   "cell_type": "markdown",
   "id": "a49989bc",
   "metadata": {},
   "source": [
    "---"
   ]
  },
  {
   "cell_type": "markdown",
   "id": "e50538ea",
   "metadata": {},
   "source": [
    "## Case B: MNIST：下載、分兩半，檢定「是否同母體」"
   ]
  },
  {
   "cell_type": "code",
   "execution_count": null,
   "id": "b40ce0de",
   "metadata": {},
   "outputs": [],
   "source": [
    "from sklearn.datasets import fetch_openml\n",
    "from sklearn.preprocessing import StandardScaler\n",
    "\n",
    "# 下載 MNIST (784 維像素)\n",
    "mnist = fetch_openml('mnist_784', version=1, as_frame=False)\n",
    "Xall = mnist.data.astype(np.float32)  # shape (70000, 784)\n",
    "yall = mnist.target.astype(int)\n",
    "\n",
    "# 常見前處理：標準化像素到 0-1 或標準化到零均值單位方差，二擇一\n",
    "Xall = Xall / 255.0\n",
    "# 或：Xall = StandardScaler().fit_transform(Xall)\n",
    "\n",
    "# 分兩半（隨機洗牌後切）\n",
    "idx = rng.permutation(len(Xall))\n",
    "A = Xall[idx[:35000]]\n",
    "B = Xall[idx[35000:]]\n",
    "\n",
    "# ---- 檢定們 ----\n",
    "# 可再次下採樣，否則置換檢定會很慢（這裡示範 subsample=6000）\n",
    "estat, ep = permutation_test(energy_stat, A, B, n_perm=200, subsample=6000)\n",
    "mmd, mmd_p = permutation_test(mmd_stat, A, B, n_perm=200, subsample=6000)\n",
    "T2, T2_p, dfs = hotellings_T2_two_sample(A, B)\n",
    "pvals, pvals_fdr, rej = per_dim_tests_with_fdr(A, B)\n",
    "\n",
    "print(f\"[MNIST Energy] stat={estat:.4f}, p≈{ep:.4g}\")\n",
    "print(f\"[MNIST MMD]    stat={mmd:.4f}, p≈{mmd_p:.4g}\")\n",
    "print(f\"[MNIST T^2]    T2={T2:.2e}, p≈{T2_p}, df={dfs}\")\n",
    "print(f\"[MNIST FDR]    sig dims={rej.sum()} / {A.shape[1]}\")\n",
    "\n",
    "# 視覺化\n",
    "neglogp = -np.log10(pvals + 1e-300)\n",
    "plt.figure(figsize=(12,4))\n",
    "plt.subplot(1,2,1); plt.hist(pvals, bins=40, edgecolor='black'); plt.title('MNIST per-pixel p histogram')\n",
    "plt.subplot(1,2,2); plt.scatter(range(A.shape[1]), neglogp, s=5, alpha=0.7); plt.title('MNIST per-pixel -log10 p')\n",
    "plt.tight_layout(); plt.show()\n",
    "\n",
    "quick_pca_plot(A, B, title='PCA (MNIST halves)')\n"
   ]
  },
  {
   "cell_type": "markdown",
   "id": "747df219",
   "metadata": {},
   "source": []
  }
 ],
 "metadata": {
  "kernelspec": {
   "display_name": "ml_env",
   "language": "python",
   "name": "python3"
  },
  "language_info": {
   "codemirror_mode": {
    "name": "ipython",
    "version": 3
   },
   "file_extension": ".py",
   "mimetype": "text/x-python",
   "name": "python",
   "nbconvert_exporter": "python",
   "pygments_lexer": "ipython3",
   "version": "3.10.18"
  }
 },
 "nbformat": 4,
 "nbformat_minor": 5
}
