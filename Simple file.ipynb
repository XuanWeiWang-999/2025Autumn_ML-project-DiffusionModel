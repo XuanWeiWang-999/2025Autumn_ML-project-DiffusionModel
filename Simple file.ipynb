{
 "cells": [
  {
   "cell_type": "markdown",
   "id": "81964a5e",
   "metadata": {},
   "source": [
    "# Goal: Minimal 1D conditional DDPM\n",
    "- 目標函數: $f(x)=\\frac{1}{1+x^2}$\n",
    "- 讓網路學會：在任意 $t$，從 $y_t$ (加噪後) 與 $x$ 預測噪聲 $\\epsilon$\n",
    "- 然後從純噪聲經由反向過程還原出 $y_0 ≈ f(x)$"
   ]
  },
  {
   "cell_type": "code",
   "execution_count": 1,
   "id": "3d5e4d33",
   "metadata": {},
   "outputs": [],
   "source": [
    "import math, torch, torch.nn as nn, torch.nn.functional as F\n",
    "import matplotlib.pyplot as plt"
   ]
  },
  {
   "cell_type": "markdown",
   "id": "183d47d9",
   "metadata": {},
   "source": [
    "#### Config\n"
   ]
  },
  {
   "cell_type": "code",
   "execution_count": 4,
   "id": "7fd87fa3",
   "metadata": {},
   "outputs": [],
   "source": [
    "DEVICE        = 'cpu' #cuda' if torch.cuda.is_available() else 'cpu'\n",
    "T             = 500        # diffusion steps\n",
    "BATCH_SIZE    = 256\n",
    "TRAIN_ITERS   = 2000       # 訓練步數（小玩具 2k 就看得到效果，再加更好）\n",
    "LR            = 2e-3\n",
    "HIDDEN        = 128\n",
    "TIME_DIM      = 64\n",
    "N_TRAIN_SAMP  = 4096       # 訓練資料量（隨機抽 x~U[-1,1]）\n",
    "DETERMINISTIC = True       # True = 取樣時不再加隨機噪聲（更平滑）\n"
   ]
  },
  {
   "cell_type": "code",
   "execution_count": 3,
   "id": "9a0b493b",
   "metadata": {},
   "outputs": [],
   "source": [
    "# Target f(x)\n",
    "def f(x):\n",
    "    return 1.0/(1.0+25.0*x**2)"
   ]
  },
  {
   "cell_type": "code",
   "execution_count": 5,
   "id": "4ac5ce49",
   "metadata": {},
   "outputs": [],
   "source": [
    "# ---------------------------\n",
    "# Schedules\n",
    "# ---------------------------\n",
    "betas  = torch.linspace(1e-4, 0.02, T, device=DEVICE)\n",
    "alphas = 1.0 - betas\n",
    "abar   = torch.cumprod(alphas, dim=0)\n",
    "sqrt_abar  = torch.sqrt(abar)\n",
    "sqrt_1mabar= torch.sqrt(1.0 - abar)\n",
    "sqrt_rcp_a = torch.sqrt(1.0 / alphas)"
   ]
  },
  {
   "cell_type": "code",
   "execution_count": 6,
   "id": "5454259c",
   "metadata": {},
   "outputs": [],
   "source": [
    "# ---------------------------\n",
    "# Time embedding\n",
    "# ---------------------------\n",
    "def t_embed(t, dim=TIME_DIM):\n",
    "    # t: (B,) -> (B, dim)\n",
    "    half = dim // 2\n",
    "    freqs = torch.exp(torch.linspace(math.log(1.0), math.log(10000.0), half, device=t.device))\n",
    "    args = t.float().unsqueeze(1) / 1000.0\n",
    "    emb = torch.cat([torch.sin(args*freqs), torch.cos(args*freqs)], dim=-1)\n",
    "    if dim % 2 == 1:\n",
    "        emb = F.pad(emb, (0,1))\n",
    "    return emb"
   ]
  },
  {
   "cell_type": "code",
   "execution_count": 7,
   "id": "f05dfb80",
   "metadata": {},
   "outputs": [],
   "source": [
    "# ---------------------------\n",
    "# Epsilon network: eps_hat = eps_theta(y_t, x, t)\n",
    "# ---------------------------\n",
    "class EpsMLP(nn.Module):\n",
    "    def __init__(self, hidden=HIDDEN, time_dim=TIME_DIM):\n",
    "        super().__init__()\n",
    "        self.t_proj = nn.Sequential(nn.Linear(time_dim, hidden), nn.SiLU())\n",
    "        self.net = nn.Sequential(\n",
    "            nn.Linear(hidden + 2, hidden),  # concat [y_t, x] + t_proj\n",
    "            nn.SiLU(),\n",
    "            nn.Linear(hidden, hidden),\n",
    "            nn.SiLU(),\n",
    "            nn.Linear(hidden, 1)\n",
    "        )\n",
    "    def forward(self, y_t, x, t):\n",
    "        h_t = self.t_proj(t_embed(t))\n",
    "        h   = torch.cat([y_t, x, h_t], dim=1)\n",
    "        return self.net(h)\n",
    "\n",
    "model = EpsMLP().to(DEVICE)\n",
    "opt   = torch.optim.AdamW(model.parameters(), lr=LR)"
   ]
  },
  {
   "cell_type": "code",
   "execution_count": 8,
   "id": "217f40ec",
   "metadata": {},
   "outputs": [],
   "source": [
    "# ---------------------------\n",
    "# q_sample: y_t = sqrt(abar_t) y0 + sqrt(1-abar_t) * eps\n",
    "# ---------------------------\n",
    "def q_sample(y0, t, eps=None):\n",
    "    if eps is None:\n",
    "        eps = torch.randn_like(y0)\n",
    "    sa  = sqrt_abar[t].view(-1,1)\n",
    "    som = sqrt_1mabar[t].view(-1,1)\n",
    "    return sa * y0 + som * eps, eps"
   ]
  },
  {
   "cell_type": "markdown",
   "id": "7656ed0a",
   "metadata": {},
   "source": [
    "## Algorithm 1"
   ]
  },
  {
   "cell_type": "code",
   "execution_count": 9,
   "id": "41e68424",
   "metadata": {},
   "outputs": [],
   "source": [
    "def train_loop():\n",
    "    model.train()\n",
    "    for step in range(1, TRAIN_ITERS+1):\n",
    "        # 取一批 x ~ U[-1,1]，y0 = f(x)\n",
    "        x  = (torch.rand(BATCH_SIZE, 1, device=DEVICE)*2 - 1)\n",
    "        y0 = f(x)\n",
    "        # 隨機 timestep\n",
    "        t  = torch.randint(0, T, (BATCH_SIZE,), device=DEVICE).long()\n",
    "        # 前向加噪\n",
    "        y_t, eps = q_sample(y0, t)\n",
    "        # 預測噪聲\n",
    "        eps_hat  = model(y_t, x, t)\n",
    "        loss     = F.mse_loss(eps_hat, eps)\n",
    "\n",
    "        opt.zero_grad(set_to_none=True)\n",
    "        loss.backward()\n",
    "        torch.nn.utils.clip_grad_norm_(model.parameters(), 1.0)\n",
    "        opt.step()\n",
    "\n",
    "        if step % 100 == 0:\n",
    "            print(f\"[train] step {step:4d} | loss {loss.item():.6f}\")"
   ]
  },
  {
   "cell_type": "markdown",
   "id": "230f47c0",
   "metadata": {},
   "source": [
    "## Algorithm 2"
   ]
  },
  {
   "cell_type": "code",
   "execution_count": 10,
   "id": "4b898508",
   "metadata": {},
   "outputs": [],
   "source": [
    "@torch.no_grad()\n",
    "def sample_on_grid(n_points=201):\n",
    "    model.eval()\n",
    "    x = torch.linspace(-1, 1, n_points, device=DEVICE).unsqueeze(1)\n",
    "    y = torch.randn_like(x)  # start from N(0,1)\n",
    "    for t in reversed(range(T)):\n",
    "        tb      = torch.full((n_points,), t, device=DEVICE, dtype=torch.long)\n",
    "        eps_hat = model(y, x, tb)\n",
    "        mean    = sqrt_rcp_a[t] * (y - (betas[t]/sqrt_1mabar[t]) * eps_hat)\n",
    "        if t > 0 and not DETERMINISTIC:\n",
    "            y = mean + torch.sqrt(betas[t]) * torch.randn_like(y)\n",
    "        else:\n",
    "            y = mean\n",
    "    return x.squeeze(1).cpu(), y.squeeze(1).cpu()"
   ]
  },
  {
   "cell_type": "markdown",
   "id": "be5937be",
   "metadata": {},
   "source": [
    "## Test"
   ]
  },
  {
   "cell_type": "code",
   "execution_count": 11,
   "id": "2a879920",
   "metadata": {},
   "outputs": [
    {
     "name": "stdout",
     "output_type": "stream",
     "text": [
      "[train] step  100 | loss 0.214480\n",
      "[train] step  200 | loss 0.173453\n",
      "[train] step  300 | loss 0.183297\n",
      "[train] step  400 | loss 0.140593\n",
      "[train] step  500 | loss 0.123925\n",
      "[train] step  600 | loss 0.125195\n",
      "[train] step  700 | loss 0.108348\n",
      "[train] step  800 | loss 0.086101\n",
      "[train] step  900 | loss 0.111773\n",
      "[train] step 1000 | loss 0.074550\n",
      "[train] step 1100 | loss 0.081675\n",
      "[train] step 1200 | loss 0.166250\n",
      "[train] step 1300 | loss 0.062350\n",
      "[train] step 1400 | loss 0.071950\n",
      "[train] step 1500 | loss 0.046644\n",
      "[train] step 1600 | loss 0.069250\n",
      "[train] step 1700 | loss 0.052262\n",
      "[train] step 1800 | loss 0.040475\n",
      "[train] step 1900 | loss 0.043973\n",
      "[train] step 2000 | loss 0.033480\n"
     ]
    },
    {
     "data": {
      "image/png": "[encoded data removed]",
      "text/plain": [
       "<Figure size 640x480 with 1 Axes>"
      ]
     },
     "metadata": {},
     "output_type": "display_data"
    },
    {
     "name": "stdout",
     "output_type": "stream",
     "text": [
      "MSE: 0.003183687338605523\n"
     ]
    }
   ],
   "source": [
    "train_loop()\n",
    "xg, yhat = sample_on_grid(n_points=401)\n",
    "ytrue     = f(xg)\n",
    "\n",
    "plt.figure()\n",
    "plt.plot(xg, ytrue, label='true f(x)')\n",
    "plt.plot(xg, yhat,  label='DDPM sample')\n",
    "plt.legend(); plt.title('1D conditional diffusion (Algorithm 1 + 2)')\n",
    "plt.show()\n",
    "\n",
    "mse = ((ytrue - yhat)**2).mean().item()\n",
    "print(\"MSE:\", mse)"
   ]
  },
  {
   "cell_type": "code",
   "execution_count": null,
   "id": "be5a4015",
   "metadata": {},
   "outputs": [],
   "source": []
  }
 ],
 "metadata": {
  "kernelspec": {
   "display_name": "ml_env",
   "language": "python",
   "name": "python3"
  },
  "language_info": {
   "codemirror_mode": {
    "name": "ipython",
    "version": 3
   },
   "file_extension": ".py",
   "mimetype": "text/x-python",
   "name": "python",
   "nbconvert_exporter": "python",
   "pygments_lexer": "ipython3",
   "version": "3.10.18"
  }
 },
 "nbformat": 4,
 "nbformat_minor": 5
}
